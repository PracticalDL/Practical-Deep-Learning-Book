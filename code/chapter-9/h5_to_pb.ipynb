{
 "cells": [
  {
   "cell_type": "markdown",
   "metadata": {
    "id": "sU5wAuG8ugfG"
   },
   "source": [
    "# Conversion of h5 model to pb\n",
    "\n",
    "This notebook is a part of Chapter-9, Scalable Inference Serving on Cloud with TensorFlow Serving and KubeFlow. We will convert a pretrained model, such as the ones we trained in previous chapters, to a `pb` model in order to use it for serving using TensorFlow Serving.\n",
    "\n",
    "Please update the path of the `h5` model in `h5_model_path`.\n",
    "\n",
    "The desired location and model name in `pb_model_path` can also be changed."
   ]
  },
  {
   "cell_type": "code",
   "source": [
    "try:\n",
    "    # Mount Google Drive\n",
    "    from google.colab import drive\n",
    "\n",
    "    drive.mount(\"/content/gdrive\")\n",
    "\n",
    "    IS_COLAB_ENV = True\n",
    "except:\n",
    "    IS_COLAB_ENV = False\n",
    "IS_COLAB_ENV"
   ],
   "metadata": {
    "colab": {
     "base_uri": "https://localhost:8080/"
    },
    "id": "qToLLlCeuvJj",
    "outputId": "aaec39de-4a24-4ad8-e237-bc5a536d9d1c"
   },
   "execution_count": 1,
   "outputs": [
    {
     "output_type": "stream",
     "name": "stdout",
     "text": [
      "Mounted at /content/gdrive\n"
     ]
    },
    {
     "output_type": "execute_result",
     "data": {
      "text/plain": [
       "True"
      ]
     },
     "metadata": {},
     "execution_count": 1
    }
   ]
  },
  {
   "cell_type": "code",
   "execution_count": 2,
   "metadata": {
    "id": "3ia2-TJRugfI"
   },
   "outputs": [],
   "source": [
    "import tensorflow\n",
    "from tensorflow import keras\n",
    "from tensorflow.python.framework.convert_to_constants import (\n",
    "    convert_variables_to_constants_v2,\n",
    ")\n",
    "\n",
    "from keras.models import load_model\n",
    "import numpy as np\n",
    "from keras.utils import CustomObjectScope\n",
    "from keras import backend as K\n",
    "import tensorflow as tf"
   ]
  },
  {
   "cell_type": "code",
   "source": [
    "# Edit the h5_model_path here as needed. We have tested this with the model trained in code/chapter-3/\n",
    "\n",
    "h5_model_path = \"model.h5\"\n",
    "if IS_COLAB_ENV:\n",
    "    h5_model_path = \"/content/gdrive/MyDrive/Practical-Deep-Learning-Book/code-outputs/chapter-3/model.h5\"\n",
    "\n",
    "tf_savedmodel_path = \"model_tf\"\n",
    "if IS_COLAB_ENV:\n",
    "    tf_savedmodel_path = \"/content/gdrive/MyDrive/Practical-Deep-Learning-Book/code-outputs/chapter-9/model-tf\"\n",
    "\n",
    "pb_model_path = f\"{tf_savedmodel_path}.pb\"\n",
    "\n",
    "print(h5_model_path)\n",
    "print(tf_savedmodel_path)\n",
    "print(pb_model_path)"
   ],
   "metadata": {
    "colab": {
     "base_uri": "https://localhost:8080/"
    },
    "id": "0wSSskdDvOLv",
    "outputId": "7245ca6c-7585-49d3-ba5c-717d6afb654e"
   },
   "execution_count": 3,
   "outputs": [
    {
     "output_type": "stream",
     "name": "stdout",
     "text": [
      "/content/gdrive/MyDrive/Practical-Deep-Learning-Book/code-outputs/chapter-3/model.h5\n",
      "/content/gdrive/MyDrive/Practical-Deep-Learning-Book/code-outputs/chapter-9/model-tf\n",
      "/content/gdrive/MyDrive/Practical-Deep-Learning-Book/code-outputs/chapter-9/model-tf.pb\n"
     ]
    }
   ]
  },
  {
   "cell_type": "markdown",
   "source": [
    "## **STEP 1:** Load the saved model, and convert the model to tensorflow's SavedModel format"
   ],
   "metadata": {
    "id": "pjWj1gqNzHeO"
   }
  },
  {
   "cell_type": "code",
   "execution_count": 4,
   "metadata": {
    "id": "ziz-4fiXugfJ"
   },
   "outputs": [],
   "source": [
    "with CustomObjectScope({\"relu6\": tf.nn.relu6}):\n",
    "    model = load_model(h5_model_path)\n",
    "    model.save(tf_savedmodel_path, save_format=\"tf\")"
   ]
  },
  {
   "cell_type": "markdown",
   "source": [
    "### Verify the SavedModel"
   ],
   "metadata": {
    "id": "AAcitKXWzZqy"
   }
  },
  {
   "cell_type": "code",
   "source": [
    "# Verify the SavedModel\n",
    "\n",
    "# Load the model\n",
    "loaded_model = tf.keras.models.load_model(tf_savedmodel_path)\n",
    "\n",
    "# Check its architecture\n",
    "loaded_model.summary()"
   ],
   "metadata": {
    "colab": {
     "base_uri": "https://localhost:8080/"
    },
    "id": "ZmKKkRe8y7yr",
    "outputId": "5ffa0165-0b53-4154-d2d9-b7698546c900"
   },
   "execution_count": 5,
   "outputs": [
    {
     "output_type": "stream",
     "name": "stdout",
     "text": [
      "Model: \"model\"\n",
      "_________________________________________________________________\n",
      " Layer (type)                Output Shape              Param #   \n",
      "=================================================================\n",
      " input_2 (InputLayer)        [(None, 224, 224, 3)]     0         \n",
      "                                                                 \n",
      " mobilenet_1.00_224 (Functi  (None, 7, 7, 1024)        3228864   \n",
      " onal)                                                           \n",
      "                                                                 \n",
      " global_average_pooling2d (  (None, 1024)              0         \n",
      " GlobalAveragePooling2D)                                         \n",
      "                                                                 \n",
      " dense (Dense)               (None, 64)                65600     \n",
      "                                                                 \n",
      " dropout (Dropout)           (None, 64)                0         \n",
      "                                                                 \n",
      " dense_1 (Dense)             (None, 2)                 130       \n",
      "                                                                 \n",
      "=================================================================\n",
      "Total params: 3294594 (12.57 MB)\n",
      "Trainable params: 65730 (256.76 KB)\n",
      "Non-trainable params: 3228864 (12.32 MB)\n",
      "_________________________________________________________________\n"
     ]
    }
   ]
  },
  {
   "cell_type": "markdown",
   "source": [
    "## **STEP 2:** Convert SavedModel to .pb format"
   ],
   "metadata": {
    "id": "_nCPlPH1zfCi"
   }
  },
  {
   "cell_type": "markdown",
   "source": [
    "### Convert the model and obtain the frozen graph"
   ],
   "metadata": {
    "id": "T5FGxfBb0AeE"
   }
  },
  {
   "cell_type": "code",
   "source": [
    "full_model = tf.function(lambda x: loaded_model(x))\n",
    "full_model = full_model.get_concrete_function(\n",
    "    tf.TensorSpec(loaded_model.inputs[0].shape, loaded_model.inputs[0].dtype)\n",
    ")\n",
    "\n",
    "frozen_func = convert_variables_to_constants_v2(full_model)\n",
    "frozen_func.graph.as_graph_def()"
   ],
   "metadata": {
    "id": "DNBOTZQRz4Li"
   },
   "execution_count": 6,
   "outputs": []
  },
  {
   "cell_type": "markdown",
   "source": [
    "### Save the frozen graph to disk\n"
   ],
   "metadata": {
    "id": "WFYo3OrA0BQF"
   }
  },
  {
   "cell_type": "code",
   "source": [
    "tf.io.write_graph(\n",
    "    graph_or_graph_def=frozen_func.graph,\n",
    "    logdir=\"./frozen_models\",\n",
    "    name=pb_model_path,\n",
    "    as_text=False,\n",
    ")"
   ],
   "metadata": {
    "colab": {
     "base_uri": "https://localhost:8080/",
     "height": 35
    },
    "id": "wc7eP41N0Jzb",
    "outputId": "6fc94832-8f65-4201-c586-1c10160282c3"
   },
   "execution_count": 7,
   "outputs": [
    {
     "output_type": "execute_result",
     "data": {
      "text/plain": [
       "'/content/gdrive/MyDrive/Practical-Deep-Learning-Book/code-outputs/chapter-9/model-tf.pb'"
      ],
      "application/vnd.google.colaboratory.intrinsic+json": {
       "type": "string"
      }
     },
     "metadata": {},
     "execution_count": 7
    }
   ]
  }
 ],
 "metadata": {
  "kernelspec": {
   "display_name": "Python 3",
   "language": "python",
   "name": "python3"
  },
  "language_info": {
   "codemirror_mode": {
    "name": "ipython",
    "version": 3
   },
   "file_extension": ".py",
   "mimetype": "text/x-python",
   "name": "python",
   "nbconvert_exporter": "python",
   "pygments_lexer": "ipython3",
   "version": "3.6.8"
  },
  "toc": {
   "base_numbering": 1,
   "nav_menu": {},
   "number_sections": true,
   "sideBar": true,
   "skip_h1_title": false,
   "title_cell": "Table of Contents",
   "title_sidebar": "Contents",
   "toc_cell": false,
   "toc_position": {},
   "toc_section_display": true,
   "toc_window_display": false
  },
  "colab": {
   "provenance": []
  }
 },
 "nbformat": 4,
 "nbformat_minor": 0
}