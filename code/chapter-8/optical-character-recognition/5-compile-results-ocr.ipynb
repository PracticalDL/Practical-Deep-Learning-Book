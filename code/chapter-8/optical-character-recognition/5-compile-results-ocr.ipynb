{
 "cells": [
  {
   "cell_type": "markdown",
   "metadata": {},
   "source": [
    "# Cloud APIs for Computer Vision: Up and Running in 15 Minutes\n",
    "\n",
    "This code is part of [Chapter 8- Cloud APIs for Computer Vision: Up and Running in 15 Minutes ](https://learning.oreilly.com/library/view/practical-deep-learning/9781492034858/ch08.html).\n",
    "\n",
    "## Compile Results for OCR\n",
    "\n",
    "In this file we will compile the results using the ground truth and the collected data for all the test images. \n",
    "\n",
    "Please update:\n",
    "\n",
    "- `PATH_TO_DATA_DIR`: Add the absolute path to the `data` directory (example: `data-may-2020`)."
   ]
  },
  {
   "cell_type": "code",
   "execution_count": 1,
   "metadata": {},
   "outputs": [],
   "source": [
    "data_path = \"<PATH_TO_DATA_DIR>\""
   ]
  },
  {
   "cell_type": "code",
   "execution_count": 2,
   "metadata": {},
   "outputs": [],
   "source": [
    "import json\n",
    "\n",
    "# Load Ground truth image ids\n",
    "with open(data_path + \"val-image-ids-final.csv\") as f:\n",
    "    image_ids = f.readlines()\n",
    "\n",
    "# Load Ground truth text\n",
    "with open(data_path + \"ground-truth.json\") as f:\n",
    "    ground_truth = json.load(f)"
   ]
  },
  {
   "cell_type": "code",
   "execution_count": 3,
   "metadata": {},
   "outputs": [],
   "source": [
    "# Load Google OCR json file\n",
    "\n",
    "with open(data_path + \"google-ocr-jsondump.json\") as f:\n",
    "    google_results = json.load(f)"
   ]
  },
  {
   "cell_type": "code",
   "execution_count": 4,
   "metadata": {},
   "outputs": [],
   "source": [
    "# Load Microsoft OCR json file\n",
    "\n",
    "with open(data_path + \"msft-ocr-jsondump.json\") as f:\n",
    "    microsoft_results = json.load(f)"
   ]
  },
  {
   "cell_type": "code",
   "execution_count": 5,
   "metadata": {},
   "outputs": [],
   "source": [
    "# Load Amazon OCR json file\n",
    "\n",
    "with open(data_path + \"amazon-ocr-jsondump.json\") as f:\n",
    "    amazon_results = json.load(f)"
   ]
  },
  {
   "cell_type": "code",
   "execution_count": 6,
   "metadata": {},
   "outputs": [],
   "source": [
    "# Helper functions to get image name from image id and converse.\n",
    "\n",
    "\n",
    "def get_id_from_name(name):\n",
    "    return int(name.split(\"/\")[-1].split(\".jpg\")[0])\n",
    "\n",
    "\n",
    "def get_name_from_id(image_id):\n",
    "    filename = (\n",
    "        data_path + \"legible-images/COCO_train2014_\" + \"000000\" + str(image_id) + \".jpg\"\n",
    "    )\n",
    "    return filename"
   ]
  },
  {
   "cell_type": "markdown",
   "metadata": {},
   "source": [
    "### Parsing\n",
    "\n",
    "Each cloud provider sends the results in slightly different formats and we need to parse each of them correctly. So, we will develop a parsing function unique to each cloud provider.\n",
    "\n",
    "#### Ground Truth Parsing"
   ]
  },
  {
   "cell_type": "code",
   "execution_count": 7,
   "metadata": {},
   "outputs": [],
   "source": [
    "def parse(l):\n",
    "    l1 = []\n",
    "    for each in l:\n",
    "        if len(each) >= 2:\n",
    "            l1.append(each.lower())\n",
    "    return l1"
   ]
  },
  {
   "cell_type": "markdown",
   "metadata": {},
   "source": [
    "#### Parsing Google Results"
   ]
  },
  {
   "cell_type": "code",
   "execution_count": 8,
   "metadata": {},
   "outputs": [],
   "source": [
    "def parse_google_response(l):\n",
    "    l1 = []\n",
    "    for each in l:\n",
    "        l1.append(each.lower())\n",
    "        k = each.lower()\n",
    "        k1 = k.split()\n",
    "        l1.extend(k1)\n",
    "    l1 = list(set(l1))\n",
    "    return l1"
   ]
  },
  {
   "cell_type": "markdown",
   "metadata": {},
   "source": [
    "#### Parsing Microsoft Results"
   ]
  },
  {
   "cell_type": "code",
   "execution_count": 9,
   "metadata": {},
   "outputs": [],
   "source": [
    "def microsoft_name(image_id):\n",
    "    return \"COCO_train2014_000000\" + str(image_id) + \".jpg\"\n",
    "\n",
    "\n",
    "def parse_microsoft_response(results_dict):\n",
    "    result = []\n",
    "    if results_dict[\"status\"] == \"Succeeded\":\n",
    "        for each_result in results_dict[\"recognitionResult\"][\"lines\"]:\n",
    "            k = each_result[\"text\"].lower()\n",
    "            kl = k.split()\n",
    "            result.extend(kl)\n",
    "    return result"
   ]
  },
  {
   "cell_type": "markdown",
   "metadata": {},
   "source": [
    "#### Parsing Amazon Results"
   ]
  },
  {
   "cell_type": "code",
   "execution_count": 10,
   "metadata": {},
   "outputs": [],
   "source": [
    "def parse_amazon_response(l):\n",
    "    l1 = []\n",
    "    for each in l:\n",
    "        if len(each) >= 1:\n",
    "            k = each.lower()\n",
    "            kl = k.split()\n",
    "            l1.extend(kl)\n",
    "    return l1"
   ]
  },
  {
   "cell_type": "markdown",
   "metadata": {},
   "source": [
    "Let's create a final function that compares the ground truth value with the values returned from the cloud providers. A couple of things to keep in mind:\n",
    "\n",
    "1. The ground truth must exist in order for a comparision to occur.\n",
    "2. The predictions must be available and must exist in order to do any parsing for that cloud provider.\n",
    "3. We are normalizing each word in both the ground truth and the predictions in order to do a word by word comparision. "
   ]
  },
  {
   "cell_type": "code",
   "execution_count": 11,
   "metadata": {
    "scrolled": false
   },
   "outputs": [],
   "source": [
    "def calculate_score(ground_truth, predictions, arg):\n",
    "    total = 0\n",
    "    correct = 0\n",
    "    for key in ground_truth.keys():\n",
    "        parsed_ground_truth = parse(ground_truth[key])\n",
    "        if parsed_ground_truth == None or len(parsed_ground_truth) < 1:\n",
    "            continue\n",
    "        total += len(parsed_ground_truth)\n",
    "        if arg == \"google\":\n",
    "            if get_name_from_id(key) in predictions:\n",
    "                pred = predictions[get_name_from_id(key)]\n",
    "                if pred == None or len(pred) < 2:\n",
    "                    continue\n",
    "                pred = parse_google_response(predictions[get_name_from_id(key)][1:])\n",
    "            else:\n",
    "                continue\n",
    "        elif arg == \"microsoft\":\n",
    "            if microsoft_name(key) in predictions:\n",
    "                pred = json.loads(predictions[microsoft_name(key)])\n",
    "                if pred == None or len(pred) == 0:\n",
    "                    continue\n",
    "                pred = parse_microsoft_response(\n",
    "                    json.loads(predictions[microsoft_name(key)])\n",
    "                )\n",
    "            else:\n",
    "                continue\n",
    "        elif arg == \"amazon\":\n",
    "            if get_name_from_id(key) in predictions:\n",
    "                pred = predictions[get_name_from_id(key)]\n",
    "                if pred == None or len(pred) < 2:\n",
    "                    continue\n",
    "                pred = parse_amazon_response(predictions[get_name_from_id(key)])\n",
    "            else:\n",
    "                continue\n",
    "        for each_word in parsed_ground_truth:\n",
    "            if each_word in pred:\n",
    "                pred.remove(each_word)\n",
    "                correct += 1\n",
    "    print(\"Total = \", total, \"\\tCorrect = \", correct)\n",
    "    print(float(correct) / float(total))"
   ]
  },
  {
   "cell_type": "code",
   "execution_count": 12,
   "metadata": {},
   "outputs": [
    {
     "name": "stdout",
     "output_type": "stream",
     "text": [
      "Total =  10031 \tCorrect =  12\n",
      "0.0011962914963612801\n"
     ]
    }
   ],
   "source": [
    "calculate_score(ground_truth, amazon_results, \"amazon\")"
   ]
  },
  {
   "cell_type": "code",
   "execution_count": 13,
   "metadata": {
    "scrolled": false
   },
   "outputs": [
    {
     "name": "stdout",
     "output_type": "stream",
     "text": [
      "Total =  10031 \tCorrect =  12\n",
      "0.0011962914963612801\n"
     ]
    }
   ],
   "source": [
    "calculate_score(ground_truth, google_results, \"google\")"
   ]
  },
  {
   "cell_type": "code",
   "execution_count": 14,
   "metadata": {
    "scrolled": false
   },
   "outputs": [
    {
     "name": "stdout",
     "output_type": "stream",
     "text": [
      "Total =  10031 \tCorrect =  14\n",
      "0.0013956734124214933\n"
     ]
    }
   ],
   "source": [
    "calculate_score(ground_truth, microsoft_results, \"microsoft\")"
   ]
  },
  {
   "cell_type": "markdown",
   "metadata": {},
   "source": [
    "If you want to see the results for each image, use the block of code below to print out results and ground truth for each image."
   ]
  },
  {
   "cell_type": "code",
   "execution_count": 15,
   "metadata": {
    "scrolled": false
   },
   "outputs": [
    {
     "name": "stdout",
     "output_type": "stream",
     "text": [
      "\n",
      "Image ID  580235\n",
      "Ground Truth =  ['de', 'de', 'de', 'jean', 'luz', 'of', 'st', 'tourisme']\n",
      "Amazon\n",
      "\tScore =  5 \n",
      "\tOCR Results =  ['de', 'de', 'de', 'de', 'de', 'de', 'jean', 'jean', 'luz', 'luz', 'office', 'office', 'st', 'st', 'tourisme', 'tourisme']\n",
      "Google\n",
      "\tScore =  5 \n",
      "\tOCR Results =  ['de', 'jean', 'luz', 'o', 'office', 'st', 'tourisme']\n",
      "Microsoft\n",
      "\tScore =  5 \n",
      "\tOCR Results =  ['@', 'de', 'de', 'de', 'jean', 'luz', 'office', 'st', 'tourisme']\n",
      "----------------------------------------------------------------------------------------------------\n",
      "\n",
      "Image ID  580933\n",
      "Ground Truth =  ['11', 'pierrephotography', 'tejada']\n",
      "Amazon\n",
      "\tScore =  1 \n",
      "\tOCR Results =  ['$1', '$1', 'pierrefhocrapny', 'pierrefhocrapny', 'tejada', 'tejada']\n",
      "Google\n",
      "\tScore =  1 \n",
      "\tOCR Results =  ['pierrefho', 'rapny', 'tejada']\n",
      "Microsoft\n",
      "\tScore =  1 \n",
      "\tOCR Results =  ['pierrefe', 'tejada']\n",
      "----------------------------------------------------------------------------------------------------\n",
      "\n",
      "Image ID  581018\n",
      "Ground Truth =  ['event', 'jp', 'morganchase', 'open', 'us', 'usta']\n",
      "Amazon\n",
      "\tScore =  4 \n",
      "\tOCR Results =  ['a', 'a', 'event', 'event', 'jpn', 'jpn', 'moraanchase', 'moraanchase', 'open', 'open', 'us', 'us', 'usta', 'usta']\n",
      "Google\n",
      "\tScore =  5 \n",
      "\tOCR Results =  ['event', 'jpm', 'morganchase', 'open', 'us', 'usta']\n",
      "Microsoft\n",
      "\tScore =  5 \n",
      "\tOCR Results =  ['event', 'jpn', 'morganchase', 'open', 'us', 'usta']\n",
      "----------------------------------------------------------------------------------------------------\n",
      "\n",
      "Image ID  581563\n",
      "Ground Truth =  ['premium']\n",
      "Amazon\n",
      "\tScore =  0 \n",
      "\tOCR Results =  ['ian', 'ian', 'premiuin', 'premiuin']\n",
      "Google\n",
      "\tScore =  1 \n",
      "\tOCR Results =  ['premium']\n",
      "Microsoft\n",
      "\tScore =  1 \n",
      "\tOCR Results =  ['premium', 'r']\n",
      "----------------------------------------------------------------------------------------------------\n"
     ]
    }
   ],
   "source": [
    "for key in ground_truth.keys():\n",
    "    parsed_ground_truth = parse(ground_truth[key])\n",
    "\n",
    "    # Amazon\n",
    "    if get_name_from_id(key) in amazon_results:\n",
    "        amazon_prediction = amazon_results[get_name_from_id(key)]\n",
    "        if amazon_prediction == None or len(amazon_prediction) < 1:\n",
    "            continue\n",
    "        amazon_prediction = parse_amazon_response(amazon_results[get_name_from_id(key)])\n",
    "    else:\n",
    "        continue\n",
    "    # Microsoft\n",
    "    if microsoft_name(key) in microsoft_results:\n",
    "        microsoft_prediction = json.loads(microsoft_results[microsoft_name(key)])\n",
    "        if microsoft_prediction == None or len(microsoft_prediction) < 1:\n",
    "            continue\n",
    "        microsoft_prediction = parse_microsoft_response(\n",
    "            json.loads(microsoft_results[microsoft_name(key)])\n",
    "        )\n",
    "    else:\n",
    "        continue\n",
    "\n",
    "    # Google\n",
    "    if get_name_from_id(key) in google_results:\n",
    "        google_prediction = google_results[get_name_from_id(key)]\n",
    "        if google_prediction == None or len(google_prediction) < 2:\n",
    "            continue\n",
    "        google_prediction = parse_google_response(\n",
    "            google_results[get_name_from_id(key)][1:]\n",
    "        )\n",
    "    else:\n",
    "        continue\n",
    "\n",
    "    # Scoring\n",
    "    # Take the common elements i.e. intersection of two lists\n",
    "    google_score = len(list(set(parsed_ground_truth).intersection(google_prediction)))\n",
    "    microsoft_score = len(\n",
    "        list(set(parsed_ground_truth).intersection(microsoft_prediction))\n",
    "    )\n",
    "    amazon_score = len(list(set(parsed_ground_truth).intersection(amazon_prediction)))\n",
    "\n",
    "    # Stats for understanding results\n",
    "    print(\"\\nImage ID \", key)\n",
    "    print(\"Ground Truth = \", sorted(parsed_ground_truth))\n",
    "    if amazon_prediction:\n",
    "        print(\n",
    "            \"Amazon\\n\\tScore = \",\n",
    "            amazon_score,\n",
    "            \"\\n\\tOCR Results = \",\n",
    "            sorted(amazon_prediction),\n",
    "        )\n",
    "    else:\n",
    "        print(\"No Amazon Score\")\n",
    "    if google_prediction:\n",
    "        print(\n",
    "            \"Google\\n\\tScore = \",\n",
    "            google_score,\n",
    "            \"\\n\\tOCR Results = \",\n",
    "            sorted(google_prediction),\n",
    "        )\n",
    "    else:\n",
    "        print(\"No Google Score\")\n",
    "    if microsoft_prediction:\n",
    "        print(\n",
    "            \"Microsoft\\n\\tScore = \",\n",
    "            microsoft_score,\n",
    "            \"\\n\\tOCR Results = \",\n",
    "            sorted(microsoft_prediction),\n",
    "        )\n",
    "    else:\n",
    "        print(\"No Microsoft Score\")\n",
    "    print(\"-\" * 100)"
   ]
  }
 ],
 "metadata": {
  "kernelspec": {
   "display_name": "Python 3",
   "language": "python",
   "name": "python3"
  },
  "language_info": {
   "codemirror_mode": {
    "name": "ipython",
    "version": 3
   },
   "file_extension": ".py",
   "mimetype": "text/x-python",
   "name": "python",
   "nbconvert_exporter": "python",
   "pygments_lexer": "ipython3",
   "version": "3.6.9"
  },
  "toc": {
   "base_numbering": 1,
   "nav_menu": {},
   "number_sections": true,
   "sideBar": true,
   "skip_h1_title": false,
   "title_cell": "Table of Contents",
   "title_sidebar": "Contents",
   "toc_cell": false,
   "toc_position": {},
   "toc_section_display": true,
   "toc_window_display": false
  }
 },
 "nbformat": 4,
 "nbformat_minor": 1
}
